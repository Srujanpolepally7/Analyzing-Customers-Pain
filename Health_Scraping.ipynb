{
 "cells": [
  {
   "cell_type": "markdown",
   "id": "1516922e",
   "metadata": {},
   "source": [
    "# Extracting customer reviews with web scraping"
   ]
  },
  {
   "cell_type": "code",
   "execution_count": 1,
   "id": "6570bc4e",
   "metadata": {},
   "outputs": [],
   "source": [
    "# importing required libraries\n",
    "from bs4 import BeautifulSoup\n",
    "import requests\n",
    "import pandas as pd\n",
    "\n",
    "# https://www.consumeraffairs.com/insurance/kaiser.html\n",
    "url=\"https://www.consumeraffairs.com/insurance/kaiser.html\"\n",
    "reviews=[]   \n",
    "stars=[]     \n",
    "\n",
    "response=requests.get(url)\n",
    "data=response.text\n",
    "soup=BeautifulSoup(data,'lxml')"
   ]
  },
  {
   "cell_type": "code",
   "execution_count": 2,
   "id": "57b39f88",
   "metadata": {},
   "outputs": [
    {
     "name": "stdout",
     "output_type": "stream",
     "text": [
      "Total Humana Reviews: 250\n"
     ]
    }
   ],
   "source": [
    "\n",
    "len_humana = 0\n",
    "for i in range(1, 11, 1):\n",
    "    page = url + \"?page=\"+str(i)\n",
    "    response = requests.get(page)\n",
    "    data = response.text\n",
    "    soup = BeautifulSoup(data, \"lxml\")\n",
    "    reviews.append([span.next_sibling.next_sibling.string for span in soup.find_all('span', class_=\"ca-txt-cpt\")])\n",
    "    stars.append([div.meta.next_sibling['data-rating'] for div in soup.find_all('div', class_=\"rvw__hdr-stat\")])\n",
    "    len_humana=len_humana + len(reviews[i-1])\n",
    "    \n",
    "print(\"Total Humana Reviews:\",len_humana+len(reviews))\n"
   ]
  },
  {
   "cell_type": "code",
   "execution_count": 3,
   "id": "f8ca08cf",
   "metadata": {},
   "outputs": [
    {
     "data": {
      "text/plain": [
       "10"
      ]
     },
     "execution_count": 3,
     "metadata": {},
     "output_type": "execute_result"
    }
   ],
   "source": [
    "len(reviews)"
   ]
  },
  {
   "cell_type": "code",
   "execution_count": 4,
   "id": "11537211",
   "metadata": {},
   "outputs": [],
   "source": [
    "\n",
    "new_star=[]\n",
    "new_review=[]\n",
    "for i in range(0,len(reviews)):\n",
    "    for j in stars[i]:\n",
    "        new_star.append(float(j))\n",
    "for i in range(0,len(reviews)):\n",
    "    for j in reviews[i]:\n",
    "        new_review.append(j)\n",
    "        "
   ]
  },
  {
   "cell_type": "code",
   "execution_count": 5,
   "id": "5e00dbd4",
   "metadata": {},
   "outputs": [
    {
     "data": {
      "text/plain": [
       "240"
      ]
     },
     "execution_count": 5,
     "metadata": {},
     "output_type": "execute_result"
    }
   ],
   "source": [
    "len(new_star)\n",
    "#len(new_review)"
   ]
  },
  {
   "cell_type": "code",
   "execution_count": 6,
   "id": "7db60d23",
   "metadata": {},
   "outputs": [
    {
     "name": "stdout",
     "output_type": "stream",
     "text": [
      "                                             Reviews  Rating  \\\n",
      "0  Kaiser does a good job until you are elderly. ...     4.0   \n",
      "1  It is easy to communicate with my doctor, or t...     4.0   \n",
      "2  There are never any surprise bills, difficulti...     5.0   \n",
      "3  Kaiser Permanente is the best supplemental ins...     5.0   \n",
      "4  Kaiser program is great. Easy communication fe...     4.0   \n",
      "\n",
      "                       Company  \n",
      "0  Kaiser Permanente Insurance  \n",
      "1  Kaiser Permanente Insurance  \n",
      "2  Kaiser Permanente Insurance  \n",
      "3  Kaiser Permanente Insurance  \n",
      "4  Kaiser Permanente Insurance  \n"
     ]
    }
   ],
   "source": [
    "\n",
    "humana_data={'Reviews':new_review,\n",
    "             'Rating':new_star,\n",
    "             'Company':'Kaiser Permanente Insurance'}\n",
    "df1=pd.DataFrame(humana_data)\n",
    "print(df1.head())"
   ]
  }
 ],
 "metadata": {
  "kernelspec": {
   "display_name": "Python 3",
   "language": "python",
   "name": "python3"
  },
  "language_info": {
   "codemirror_mode": {
    "name": "ipython",
    "version": 3
   },
   "file_extension": ".py",
   "mimetype": "text/x-python",
   "name": "python",
   "nbconvert_exporter": "python",
   "pygments_lexer": "ipython3",
   "version": "3.8.8"
  }
 },
 "nbformat": 4,
 "nbformat_minor": 5
}
